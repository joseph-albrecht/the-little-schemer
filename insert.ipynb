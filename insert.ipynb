{
 "cells": [
  {
   "cell_type": "markdown",
   "metadata": {},
   "source": [
    "## Recursive Insert Left"
   ]
  },
  {
   "cell_type": "markdown",
   "metadata": {},
   "source": [
    "A recursive function to insert the 'new' object to the left of the 'old' object in the tuple."
   ]
  },
  {
   "cell_type": "code",
   "execution_count": 56,
   "metadata": {
    "collapsed": true
   },
   "outputs": [],
   "source": [
    "def insert_l(new, old, tup=()):\n",
    "    if len(tup) == 0:\n",
    "        return ()\n",
    "    elif tup[0] == old:\n",
    "        return (new,) + tup\n",
    "    else:\n",
    "        return (tup[0],) + insert_l(new, old, tup[1:])"
   ]
  },
  {
   "cell_type": "code",
   "execution_count": 57,
   "metadata": {
    "scrolled": true
   },
   "outputs": [
    {
     "name": "stdout",
     "output_type": "stream",
     "text": [
      "('A', 'big', 'bad', 'wolf!', 'bad')\n"
     ]
    }
   ],
   "source": [
    "print (insert_l(\"big\", \"bad\", (\"A\", \"bad\", \"wolf!\", \"bad\")))"
   ]
  },
  {
   "cell_type": "markdown",
   "metadata": {},
   "source": [
    "## Recursive Insert Right"
   ]
  },
  {
   "cell_type": "markdown",
   "metadata": {},
   "source": [
    "A recursive function to insert the 'new' object to the right of the 'old' object in the tuple."
   ]
  },
  {
   "cell_type": "code",
   "execution_count": 58,
   "metadata": {},
   "outputs": [],
   "source": [
    "def insert_r(new, old, tup=()):\n",
    "    if len(tup) == 0:\n",
    "        return ()\n",
    "    elif tup[0] == old:\n",
    "        return (old,) + (new,) + tup[1:]\n",
    "    else:\n",
    "        return (tup[0],) + insert_r(new, old, tup[1:])"
   ]
  },
  {
   "cell_type": "code",
   "execution_count": 59,
   "metadata": {},
   "outputs": [
    {
     "name": "stdout",
     "output_type": "stream",
     "text": [
      "('A', 'bad', 'big', 'wolf!', 'very', 'bad')\n"
     ]
    }
   ],
   "source": [
    "print (insert_r(\"big\", \"bad\", (\"A\", \"bad\", \"wolf!\", \"very\", \"bad\")))"
   ]
  },
  {
   "cell_type": "markdown",
   "metadata": {},
   "source": [
    "## Recursive Insert Left All"
   ]
  },
  {
   "cell_type": "markdown",
   "metadata": {},
   "source": [
    "A recursive function to insert the 'new' object to the left of the 'old' object in the tuple"
   ]
  },
  {
   "cell_type": "code",
   "execution_count": 60,
   "metadata": {
    "collapsed": true
   },
   "outputs": [],
   "source": [
    "def insert_l_all(new, old, tup=()):\n",
    "    if len(tup) == 0:\n",
    "        return ()\n",
    "    elif tup[0] == old:\n",
    "        return (new,) + (old,) + insert_l_all(new, old, tup[1:])\n",
    "    else:\n",
    "        return (tup[0],) + insert_l_all(new, old, tup[1:])"
   ]
  },
  {
   "cell_type": "code",
   "execution_count": 61,
   "metadata": {},
   "outputs": [
    {
     "name": "stdout",
     "output_type": "stream",
     "text": [
      "('A', 'big', 'bad', 'wolf!', 'very', 'big', 'bad')\n"
     ]
    }
   ],
   "source": [
    "print (insert_l_all(\"big\", \"bad\", (\"A\", \"bad\", \"wolf!\", \"very\", \"bad\")))"
   ]
  },
  {
   "cell_type": "markdown",
   "metadata": {},
   "source": [
    "## Recursive Insert Right All"
   ]
  },
  {
   "cell_type": "markdown",
   "metadata": {},
   "source": [
    "A recursive function to insert the 'new' object to the right of the 'old' object in the tuple"
   ]
  },
  {
   "cell_type": "code",
   "execution_count": 62,
   "metadata": {
    "collapsed": true
   },
   "outputs": [],
   "source": [
    "def insert_r_all(new, old, tup=()):\n",
    "    if len(tup) == 0:\n",
    "        return ()\n",
    "    elif tup[0] == old:\n",
    "        return (old,) + (new,) + insert_r_all(new, old, tup[1:])\n",
    "    else:\n",
    "        return (tup[0],) + insert_r_all(new, old, tup[1:])"
   ]
  },
  {
   "cell_type": "code",
   "execution_count": 63,
   "metadata": {},
   "outputs": [
    {
     "name": "stdout",
     "output_type": "stream",
     "text": [
      "('A', 'bad', 'big', 'wolf!', 'very', 'bad', 'big')\n"
     ]
    }
   ],
   "source": [
    "print (insert_r_all(\"big\", \"bad\", (\"A\", \"bad\", \"wolf!\", \"very\", \"bad\")))"
   ]
  }
 ],
 "metadata": {
  "kernelspec": {
   "display_name": "Python 3",
   "language": "python",
   "name": "python3"
  },
  "language_info": {
   "codemirror_mode": {
    "name": "ipython",
    "version": 3
   },
   "file_extension": ".py",
   "mimetype": "text/x-python",
   "name": "python",
   "nbconvert_exporter": "python",
   "pygments_lexer": "ipython3",
   "version": "3.6.1"
  }
 },
 "nbformat": 4,
 "nbformat_minor": 2
}
