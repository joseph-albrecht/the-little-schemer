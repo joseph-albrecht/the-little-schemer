{
 "cells": [
  {
   "cell_type": "markdown",
   "metadata": {},
   "source": [
    "## Recursive Substitution of One Element"
   ]
  },
  {
   "cell_type": "markdown",
   "metadata": {},
   "source": [
    "This is a recursive function to substitute the 'new' object where the first 'old' object used to be."
   ]
  },
  {
   "cell_type": "code",
   "execution_count": 40,
   "metadata": {
    "collapsed": true
   },
   "outputs": [],
   "source": [
    "def subs (new, old, tup = ()):\n",
    "    if len(tup) == 0:\n",
    "        return ()\n",
    "    elif (tup[0] == old):\n",
    "        return (new,) + tup[1:]\n",
    "    else:\n",
    "        return (tup[0],) + subs(new, old, tup[1:])"
   ]
  },
  {
   "cell_type": "code",
   "execution_count": 41,
   "metadata": {},
   "outputs": [
    {
     "name": "stdout",
     "output_type": "stream",
     "text": [
      "('one', 'two', 'three', 'four', 'four')\n"
     ]
    }
   ],
   "source": [
    "print (subs(\"three\", \"four\", (\"one\", \"two\", \"four\", \"four\", \"four\")))"
   ]
  },
  {
   "cell_type": "markdown",
   "metadata": {},
   "source": [
    "## Recursive Substition of All Elements"
   ]
  },
  {
   "cell_type": "markdown",
   "metadata": {},
   "source": [
    "This is a recursive function to subsitute the 'new' object wherever the 'old' object used to be."
   ]
  },
  {
   "cell_type": "code",
   "execution_count": 42,
   "metadata": {
    "collapsed": true
   },
   "outputs": [],
   "source": [
    "def subs_all(new, old, tup = ()):\n",
    "    if len(tup) == 0:\n",
    "        return ()\n",
    "    elif tup[0] == old:\n",
    "        return (new,) + subs_all(new, old, tup[1:])\n",
    "    else:\n",
    "        return (tup[0], ) + subs_all(new, old, tup[1:])"
   ]
  },
  {
   "cell_type": "code",
   "execution_count": 43,
   "metadata": {},
   "outputs": [
    {
     "name": "stdout",
     "output_type": "stream",
     "text": [
      "('one', 'two', 'three', 'three', 'three')\n"
     ]
    }
   ],
   "source": [
    "print (subs_all('three', 'four', ('one', 'two', 'four', 'four', 'four')))"
   ]
  }
 ],
 "metadata": {
  "kernelspec": {
   "display_name": "Python 3",
   "language": "python",
   "name": "python3"
  },
  "language_info": {
   "codemirror_mode": {
    "name": "ipython",
    "version": 3
   },
   "file_extension": ".py",
   "mimetype": "text/x-python",
   "name": "python",
   "nbconvert_exporter": "python",
   "pygments_lexer": "ipython3",
   "version": "3.6.1"
  }
 },
 "nbformat": 4,
 "nbformat_minor": 2
}
