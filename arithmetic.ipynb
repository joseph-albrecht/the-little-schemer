{
 "cells": [
  {
   "cell_type": "markdown",
   "metadata": {},
   "source": [
    "## Recursive Addition of Two Numbers"
   ]
  },
  {
   "cell_type": "markdown",
   "metadata": {},
   "source": [
    "A function that recursively adds the second number to the first number, using only +1 -1 and == 0"
   ]
  },
  {
   "cell_type": "code",
   "execution_count": 1,
   "metadata": {
    "collapsed": true
   },
   "outputs": [],
   "source": [
    "def sum(addend1, addend2):\n",
    "    if (addend2 == 0):\n",
    "        return addend1\n",
    "    else:\n",
    "        return sum((addend1 + 1), (addend2 - 1))"
   ]
  },
  {
   "cell_type": "code",
   "execution_count": 2,
   "metadata": {},
   "outputs": [
    {
     "name": "stdout",
     "output_type": "stream",
     "text": [
      "10\n"
     ]
    }
   ],
   "source": [
    "print (sum(5,5))"
   ]
  },
  {
   "cell_type": "markdown",
   "metadata": {},
   "source": [
    "## Recursive Addition of Numbers in a Tuple"
   ]
  },
  {
   "cell_type": "markdown",
   "metadata": {},
   "source": [
    "A recursive function to add all of the numbers in a tuple."
   ]
  },
  {
   "cell_type": "code",
   "execution_count": 3,
   "metadata": {
    "collapsed": true
   },
   "outputs": [],
   "source": [
    "def sum_tuple (tup):\n",
    "    if (len(tup) == 0):\n",
    "        return 0\n",
    "    else:\n",
    "        return tup[0] + sum_tuple(tup[1:])"
   ]
  },
  {
   "cell_type": "code",
   "execution_count": 4,
   "metadata": {},
   "outputs": [
    {
     "name": "stdout",
     "output_type": "stream",
     "text": [
      "8\n"
     ]
    }
   ],
   "source": [
    "print (sum_tuple((1,2,5)))"
   ]
  },
  {
   "cell_type": "markdown",
   "metadata": {},
   "source": [
    "## Recursive Subtraction of Two Numbers"
   ]
  },
  {
   "cell_type": "markdown",
   "metadata": {},
   "source": [
    "A function that recursively subtracts the second number from the first name, making use of only ++, --, and == 0."
   ]
  },
  {
   "cell_type": "code",
   "execution_count": 5,
   "metadata": {
    "collapsed": true
   },
   "outputs": [],
   "source": [
    "def subtract(minuend, subtrahend):\n",
    "    if (subtrahend == 0):\n",
    "        return minuend\n",
    "    else:\n",
    "        return subtract((minuend - 1), (subtrahend - 1))"
   ]
  },
  {
   "cell_type": "code",
   "execution_count": 6,
   "metadata": {},
   "outputs": [
    {
     "name": "stdout",
     "output_type": "stream",
     "text": [
      "2\n"
     ]
    }
   ],
   "source": [
    "print (subtract(5, 3))"
   ]
  },
  {
   "cell_type": "markdown",
   "metadata": {},
   "source": [
    "## Recursive Multiplication of Two Numbers"
   ]
  },
  {
   "cell_type": "markdown",
   "metadata": {},
   "source": [
    "A function that recursively multiplies the first number by the second number"
   ]
  },
  {
   "cell_type": "code",
   "execution_count": 7,
   "metadata": {
    "collapsed": true
   },
   "outputs": [],
   "source": [
    "def multiply(multiplicand, multiplier):\n",
    "    if (multiplier == 0):\n",
    "        return 0\n",
    "    else:\n",
    "        #not sure why this isn't working\n",
    "        #sum(multiplicand, multiply(multiplicand, (multiplier - 1)))\n",
    "        return multiplicand + multiply(multiplicand, (multiplier - 1))"
   ]
  },
  {
   "cell_type": "code",
   "execution_count": 8,
   "metadata": {},
   "outputs": [
    {
     "name": "stdout",
     "output_type": "stream",
     "text": [
      "12\n"
     ]
    }
   ],
   "source": [
    "print (multiply(3, 4))"
   ]
  },
  {
   "cell_type": "markdown",
   "metadata": {},
   "source": [
    "## Recursive Addition of Two Tuples of the Same Length"
   ]
  },
  {
   "cell_type": "markdown",
   "metadata": {},
   "source": [
    "A function that recursively adds two tuples of the same length."
   ]
  },
  {
   "cell_type": "code",
   "execution_count": 9,
   "metadata": {
    "collapsed": true
   },
   "outputs": [],
   "source": [
    "def add_tuples(tup_one, tup_two):\n",
    "    if(len(tup_one) == 0 and len(tup_two) == 0):\n",
    "        return ()\n",
    "    else:\n",
    "        return (sum(tup_one[0], tup_two[0]),) + add_tuples(tup_one[1:], tup_two[1:])"
   ]
  },
  {
   "cell_type": "code",
   "execution_count": 10,
   "metadata": {},
   "outputs": [
    {
     "name": "stdout",
     "output_type": "stream",
     "text": [
      "(0, 2, 5)\n"
     ]
    }
   ],
   "source": [
    "print(add_tuples((0,1,2), (0,1,3)))"
   ]
  },
  {
   "cell_type": "markdown",
   "metadata": {},
   "source": [
    "## Recursive Addition of Two Tuples of Different Lengths"
   ]
  },
  {
   "cell_type": "markdown",
   "metadata": {},
   "source": [
    "A function that recursively adds two tuples of different lengths."
   ]
  },
  {
   "cell_type": "code",
   "execution_count": 11,
   "metadata": {
    "collapsed": true
   },
   "outputs": [],
   "source": [
    "def add_dif_len_tuples(tup_one, tup_two):\n",
    "    if(len(tup_one) == 0 and len(tup_two) == 0):\n",
    "        return ()\n",
    "    elif(len(tup_one) == 0):\n",
    "        return tup_two\n",
    "    elif(len(tup_two) == 0):\n",
    "        return tup_one\n",
    "    else:\n",
    "        return (sum(tup_one[0], tup_two[0]), ) + add_dif_len_tuples(tup_one[1:], tup_two[1:])"
   ]
  },
  {
   "cell_type": "code",
   "execution_count": 12,
   "metadata": {},
   "outputs": [
    {
     "name": "stdout",
     "output_type": "stream",
     "text": [
      "(0, 2, 3)\n"
     ]
    }
   ],
   "source": [
    "print(add_dif_len_tuples((0,1), (0,1,3)))"
   ]
  },
  {
   "cell_type": "markdown",
   "metadata": {
    "collapsed": true
   },
   "source": [
    "## Recursive Addition of Two Tuples of Different Lengths... Hideous One-Liner"
   ]
  },
  {
   "cell_type": "code",
   "execution_count": 1,
   "metadata": {
    "collapsed": true
   },
   "outputs": [],
   "source": [
    "tup_one = (1,2,3,4,5)\n",
    "tup_two = (1,2,3,4,5,6)"
   ]
  },
  {
   "cell_type": "code",
   "execution_count": 2,
   "metadata": {},
   "outputs": [
    {
     "data": {
      "text/plain": [
       "(2, 4, 6, 8, 10, 6)"
      ]
     },
     "execution_count": 2,
     "metadata": {},
     "output_type": "execute_result"
    }
   ],
   "source": [
    "tuple([x + y for x, y in [(tup_one[x], tup_two[x]) for x in range(min(len(tup_one),len(tup_two)))] + [(tup_one[x], 0) if len(tup_one) > len(tup_two) else (0, tup_two[x]) for x in range(min(len(tup_one), len(tup_two)), max(len(tup_one),len(tup_two)))]])"
   ]
  },
  {
   "cell_type": "code",
   "execution_count": null,
   "metadata": {
    "collapsed": true
   },
   "outputs": [],
   "source": []
  }
 ],
 "metadata": {
  "kernelspec": {
   "display_name": "Python 3",
   "language": "python",
   "name": "python3"
  },
  "language_info": {
   "codemirror_mode": {
    "name": "ipython",
    "version": 3
   },
   "file_extension": ".py",
   "mimetype": "text/x-python",
   "name": "python",
   "nbconvert_exporter": "python",
   "pygments_lexer": "ipython3",
   "version": "3.6.1"
  }
 },
 "nbformat": 4,
 "nbformat_minor": 2
}
